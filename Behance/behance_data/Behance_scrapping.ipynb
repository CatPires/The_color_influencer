{
 "cells": [
  {
   "cell_type": "code",
   "execution_count": 2,
   "metadata": {},
   "outputs": [],
   "source": [
    "## Scrapping Behance"
   ]
  },
  {
   "cell_type": "code",
   "execution_count": 1,
   "metadata": {},
   "outputs": [],
   "source": [
    "#Libraries\n",
    "import pandas as pd\n",
    "import re\n",
    "\n",
    "from getpass import getpass\n",
    "import random\n",
    "import time\n",
    "\n",
    "from selenium import webdriver\n",
    "from selenium.webdriver.common.keys import Keys\n",
    "from selenium.webdriver.common.action_chains import ActionChains\n",
    "from webdriver_manager.chrome import ChromeDriverManager\n",
    "from selenium.webdriver.chrome.options import Options"
   ]
  },
  {
   "cell_type": "code",
   "execution_count": 2,
   "metadata": {},
   "outputs": [
    {
     "name": "stderr",
     "output_type": "stream",
     "text": [
      "[WDM] - \n",
      "\n",
      "[WDM] - ====== WebDriver manager ======\n",
      "[WDM] - Current google-chrome version is 94.0.4606\n",
      "[WDM] - Get LATEST driver version for 94.0.4606\n",
      "[WDM] - Get LATEST driver version for 94.0.4606\n",
      "[WDM] - Trying to download new driver from https://chromedriver.storage.googleapis.com/94.0.4606.61/chromedriver_win32.zip\n",
      "[WDM] - Driver has been saved in cache [C:\\Users\\catar\\.wdm\\drivers\\chromedriver\\win32\\94.0.4606.61]\n"
     ]
    }
   ],
   "source": [
    "## first we need to initiate the driver##\n",
    "options = Options()\n",
    "options.page_load_strategy = 'normal'\n",
    "driver = webdriver.Chrome(ChromeDriverManager().install(), options=options)"
   ]
  },
  {
   "cell_type": "code",
   "execution_count": 3,
   "metadata": {},
   "outputs": [],
   "source": [
    "driver.maximize_window() ## maximize our page"
   ]
  },
  {
   "cell_type": "code",
   "execution_count": 4,
   "metadata": {},
   "outputs": [],
   "source": [
    "# open the website\n",
    "driver.get('https://www.behance.net/galleries?tracking_source=nav20')\n",
    "## settle as main window\n",
    "main_window = driver.current_window_handle"
   ]
  },
  {
   "cell_type": "code",
   "execution_count": 5,
   "metadata": {},
   "outputs": [],
   "source": [
    "# Login in\n",
    "signin = driver.find_elements_by_css_selector(\"button[class^='Btn-button-BGn Btn-base-M-O Btn-normal-hI4 js-adobeid-signin PrimaryNav-a11yButton-2Cl e2e-PrimaryNav-Signin']\")[0].click()\n",
    "time.sleep(2.5) ## sleep timer in order to mimic human interaction"
   ]
  },
  {
   "cell_type": "code",
   "execution_count": 6,
   "metadata": {},
   "outputs": [],
   "source": [
    "# Insert email\n",
    "email = getpass('Enter your email') ## input email\n",
    "xpath_page = \"//input[@type='email']\"\n",
    "email_box = driver.find_element_by_xpath(xpath_page)\n",
    "email_box.send_keys(email)  ## send email to webpage\n",
    "time.sleep(3.5) ## sleep timer in order to mimic human interaction\n",
    "\n",
    "## click to continue\n",
    "send_email = driver.find_elements_by_css_selector(\"button[data-id^='EmailPage-ContinueButton']\")[0].click()\n",
    "time.sleep(2.5) ## sleep timer in order to mimic human interaction"
   ]
  },
  {
   "cell_type": "code",
   "execution_count": 7,
   "metadata": {},
   "outputs": [],
   "source": [
    "## Insert password\n",
    "password = getpass('Enter your password') ## input password\n",
    "xpath_page = \"//input[@type='password']\"\n",
    "password_box = driver.find_element_by_xpath(xpath_page)\n",
    "\n",
    "#password_box = driver.find_elements_by_css_selector(\"input[type^='password']\")  ## find the place to input the password\n",
    "password_box.send_keys(password)  ## send password to webpage\n",
    "time.sleep(1.3) ## sleep timer in order to mimic human interaction\n",
    "\n",
    "## click to continue\n",
    "send_pass = driver.find_elements_by_css_selector(\"button[aria-label^='Continuar']\")[0].click()\n",
    "time.sleep(2.5) ## sleep timer in order to mimic human interaction"
   ]
  },
  {
   "cell_type": "code",
   "execution_count": 14,
   "metadata": {},
   "outputs": [],
   "source": [
    "## ignore and click to continue\n",
    "## only run if the login without password page appear\n",
    "#ignore = driver.find_elements_by_css_selector(\"button[data-id^='PasswordlessOptInPP-continue-button']\")[0].click()\n",
    "#time.sleep(2.5) ## sleep timer in order to mimic human interaction"
   ]
  },
  {
   "cell_type": "code",
   "execution_count": 8,
   "metadata": {},
   "outputs": [],
   "source": [
    "## acept cookies and click to continue\n",
    "cookies = driver.find_elements_by_css_selector(\"button[id^='onetrust-accept-btn-handler']\")[0].click()\n",
    "time.sleep(2.5) ## sleep timer in order to mimic human interaction"
   ]
  },
  {
   "cell_type": "code",
   "execution_count": 64,
   "metadata": {},
   "outputs": [],
   "source": [
    "## Now lets see each project information"
   ]
  },
  {
   "cell_type": "code",
   "execution_count": 9,
   "metadata": {},
   "outputs": [],
   "source": [
    "## First lets get our project links\n",
    "\n",
    "def get_links(results_number):\n",
    "    ## first refresh the page\n",
    "    driver.refresh()\n",
    "    ## scroll to load page in order to have the number of results we want\n",
    "    while True:\n",
    "        xpath_page = \"//li[@class='ContentGrid-gridItem-2Ad e2e-ContentGrid-item']\"\n",
    "        page_scroll = driver.find_elements_by_xpath(xpath_page)\n",
    "        driver.execute_script(\"window.scrollTo(0, document.body.scrollHeight);\")\n",
    "        if len([element.get_attribute(\"style\") for element in page_scroll]) > int(results_number):\n",
    "            break\n",
    "        time.sleep(random.uniform(3,5))  ## sleep timer in order to mimic human interaction\n",
    "    \n",
    "    ## get links from the results\n",
    "    project_links = [element.get_attribute(\"href\") for element in driver.find_elements_by_xpath(xpath_page+\"//a[@class='ProjectCoverNeue-coverLink-2Hl js-project-cover-image-link js-project-link e2e-ProjectCoverNeue-link']\")]\n",
    "\n",
    "    ## get project photo\n",
    "    project_photos = [element.get_attribute(\"src\") for element in driver.find_elements_by_xpath(xpath_page+\"//img[@class='ProjectCoverNeue-image-13g js-cover-image']\")]\n",
    "\n",
    "    ## dataframe with this info\n",
    "    projects_data = pd.DataFrame([project_links,project_photos]).T\n",
    "    projects_data = projects_data.dropna().drop_duplicates()\n",
    "    projects_data.columns = ['project_links', 'project_photos']\n",
    "    return projects_data"
   ]
  },
  {
   "cell_type": "code",
   "execution_count": 13,
   "metadata": {},
   "outputs": [],
   "source": [
    "test = get_links(30)"
   ]
  },
  {
   "cell_type": "code",
   "execution_count": null,
   "metadata": {},
   "outputs": [],
   "source": [
    "## Now lets scrap"
   ]
  },
  {
   "cell_type": "code",
   "execution_count": 13,
   "metadata": {},
   "outputs": [
    {
     "name": "stderr",
     "output_type": "stream",
     "text": [
      "<ipython-input-13-543be129291a>:7: DeprecationWarning: use driver.switch_to.window instead\n",
      "  driver.switch_to_window(driver.window_handles[1])\n"
     ]
    }
   ],
   "source": [
    "## lets open the project in a new tab\n",
    "\n",
    "# open new blank tab\n",
    "driver.execute_script(\"window.open();\")\n",
    "\n",
    "# switch to the new window which is second in window_handles array\n",
    "driver.switch_to_window(driver.window_handles[1])\n",
    "\n",
    "# open successfully and close\n",
    "driver.get(test['project_links'].iloc[3])"
   ]
  },
  {
   "cell_type": "code",
   "execution_count": 36,
   "metadata": {},
   "outputs": [
    {
     "name": "stderr",
     "output_type": "stream",
     "text": [
      "<ipython-input-36-269aee147c1b>:5: DeprecationWarning: use driver.switch_to.window instead\n",
      "  driver.switch_to_window(main_window)\n"
     ]
    }
   ],
   "source": [
    "## after get the information we need to close the page and return to the main one\n",
    "driver.close()\n",
    "\n",
    "# back to the main window\n",
    "driver.switch_to_window(main_window)"
   ]
  },
  {
   "cell_type": "code",
   "execution_count": 11,
   "metadata": {},
   "outputs": [],
   "source": [
    "## Once we have a list with unique results links lets scrapp each one\n",
    "\n",
    "def get_info(projects):\n",
    "    \n",
    "    # Create to add the info scrapped\n",
    "    projects_name = []\n",
    "    projects_likes = []\n",
    "    projects_visualizations = []\n",
    "    projects_nr_comments = []\n",
    "    projects_dates = []\n",
    "    projects_tools = []\n",
    "    projects_creative = []\n",
    "    projects_tags = []\n",
    "    artists_links = []\n",
    "    total_photos_links = []\n",
    "    total_photos_number = []\n",
    "    total_commments = []\n",
    "\n",
    "    ## lets open the project in a new tab\n",
    "    for project in projects['project_links']:\n",
    "        ## to keep track of our position\n",
    "        print(\"%d _ %d\" % (len(projects_name), len(projects['project_links'])))\n",
    "\n",
    "        ## open new blank tab\n",
    "        driver.execute_script(\"window.open();\")\n",
    "\n",
    "        ## switch to the new window which is second in window_handles array\n",
    "        driver.switch_to_window(driver.window_handles[1])\n",
    "\n",
    "        ## open successfully \n",
    "        driver.get(project)\n",
    "\n",
    "        ## get our project info\n",
    "        xpath_page = \"//div[@class='Project-projectInfoSection-3it e2e-Project-infoSection']\"\n",
    "\n",
    "        ## get project name\n",
    "        project_name = driver.find_element_by_xpath(xpath_page+\"//div[@class='Project-projectName-2sV']\").text\n",
    "        projects_name.append(project_name)\n",
    "        time.sleep(random.uniform(1,2))\n",
    "\n",
    "        ## get likes\n",
    "        project_likes = driver.find_element_by_xpath(xpath_page+\"//div[@class='Project-projectStat-6Y3 beicons-pre beicons-pre-thumb']\").text\n",
    "        projects_likes.append(project_likes)\n",
    "        time.sleep(random.uniform(1,2))\n",
    "\n",
    "        ## get visualizations\n",
    "        project_visualizations = driver.find_element_by_xpath(xpath_page+\"//div[@class='Project-projectStat-6Y3 beicons-pre beicons-pre-eye']\").text\n",
    "        projects_visualizations.append(project_visualizations)\n",
    "        time.sleep(random.uniform(1,2))\n",
    "\n",
    "        ## get comments\n",
    "        project_nr_comments = driver.find_element_by_xpath(xpath_page+\"//div[@class='Project-projectStat-6Y3 beicons-pre beicons-pre-comment']\").text\n",
    "        projects_nr_comments.append(project_nr_comments)\n",
    "        time.sleep(random.uniform(1,2))\n",
    "\n",
    "        ## get publication date\n",
    "        project_date = driver.find_element_by_xpath(xpath_page+\"//div[@class='Project-projectPublished-1UI']//time\").text\n",
    "        projects_dates.append(project_date)\n",
    "        time.sleep(random.uniform(1,2))\n",
    "\n",
    "        ## get tools\n",
    "        project_tools = [element.get_attribute(\"alt\") for element in driver.find_elements_by_xpath(\"//div[@class='ProjectTools-section-1cb e2e-Project-Tools-tools']//img[@class='ProjectTools-toolIcon-IoN']\")]\n",
    "        projects_tools.append(project_tools)\n",
    "        time.sleep(random.uniform(1,2))\n",
    "\n",
    "        ## get creative fields\n",
    "        project_creative = [element.get_attribute(\"alt\") for element in driver.find_elements_by_xpath(\"//li[@class='ProjectTools-creativeField-3n3']//img[@class='PillShapedInfoButton-background-10c']\")]\n",
    "        projects_creative.append(project_creative)\n",
    "        time.sleep(random.uniform(1,2))\n",
    "\n",
    "        ## get project tags\n",
    "        project_tags = [element.text for element in driver.find_elements_by_xpath(\"//ul[@class='ProjectTags-projectTags-1IC ProjectTags-usePillShapedTags-1XX js-project-tags ProjectInfo-infoBlocks-2hM ProjectInfo-projectTags-2fx']//li//a\")]\n",
    "        projects_tags.append(project_tags)\n",
    "        time.sleep(random.uniform(1,2))\n",
    "\n",
    "        ## artist name / location / avaliações / exibições / seguidores - get artist page\n",
    "        artist_links = [element.get_attribute(\"href\") for element in driver.find_elements_by_xpath(\"//a[@class='ProjectOwnersInfo-userName-2oz js-mini-profile qa-user-link e2e-ProjectOwnersInfo-user-link']\")]\n",
    "        artists_links.append(artist_links)\n",
    "        time.sleep(random.uniform(1,2))\n",
    "\n",
    "        ## elements in project\n",
    "        photos_links = [element.get_attribute(\"src\") for element in driver.find_elements_by_xpath(\"//div[@class='js-project-module js-project-module--image project-module module image e2e-Project-modules-image project-module-image image-full project-module-image-full Image-root-1tO']//img\")]\n",
    "        total_photos_links.append(photos_links)\n",
    "        time.sleep(random.uniform(1,2))\n",
    "        \n",
    "        ## Number of elements in project\n",
    "        photos_number = len(photos_links)\n",
    "        total_photos_number.append(photos_number)\n",
    "        time.sleep(random.uniform(1,2))\n",
    "\n",
    "        ## get comments\n",
    "        while True:  ## open all comments\n",
    "            try:\n",
    "                more_comments = driver.find_elements_by_css_selector(\"div[class='js-see-more comments-pagination']\")[0].click()\n",
    "                time.sleep(random.uniform(1,2))  ## sleep timer in order to mimic human interaction\n",
    "            except:\n",
    "                break\n",
    "\n",
    "        commments = [element.text for element in driver.find_elements_by_xpath(\"//div[@class='comment-text js-comment-text']\")]\n",
    "        total_commments.append(commments)\n",
    "        time.sleep(random.uniform(1,2))\n",
    "\n",
    "        ## after get the information we need to close the page\n",
    "        driver.close()\n",
    "\n",
    "        # return to the main window\n",
    "        driver.switch_to_window(main_window)\n",
    "\n",
    "\n",
    "    #lets retrieve dataframe with this information\n",
    "    projects_data = pd.DataFrame([projects_name,projects_likes,projects_visualizations,projects_nr_comments,projects_dates,projects_tools,projects_creative,projects_tags,artists_links,total_photos_links,total_photos_number,total_commments]).T\n",
    "    projects_data.columns = ['project_name','nr_likes','nr_visualizations','nr_comments','publication_date','tools_used','creative_fields','tags','artists_profile','project_photos','project_nr_photos','comments']\n",
    "    projects_data['project_links'] = projects['project_links']\n",
    "    projects_data['project_main_photo'] = projects['project_photos']\n",
    "\n",
    "    return projects_data"
   ]
  },
  {
   "cell_type": "code",
   "execution_count": 12,
   "metadata": {},
   "outputs": [],
   "source": [
    "links = get_links(2500)"
   ]
  },
  {
   "cell_type": "code",
   "execution_count": 13,
   "metadata": {},
   "outputs": [],
   "source": [
    "links.to_csv(\"links.csv\",sep = ',')"
   ]
  },
  {
   "cell_type": "code",
   "execution_count": 38,
   "metadata": {},
   "outputs": [],
   "source": [
    "#behance_data = get_info()"
   ]
  },
  {
   "cell_type": "code",
   "execution_count": null,
   "metadata": {},
   "outputs": [],
   "source": [
    "behance_data"
   ]
  },
  {
   "cell_type": "code",
   "execution_count": null,
   "metadata": {},
   "outputs": [],
   "source": [
    "behance_data.to_csv(\"behance_data.csv\",sep = ',')"
   ]
  },
  {
   "cell_type": "code",
   "execution_count": null,
   "metadata": {},
   "outputs": [],
   "source": [
    "## get artist name\n",
    "artists_name = [element.text for element in driver.find_elements_by_xpath(\"//div[@class='ProjectOwnersInfo-userInfo-2WK']//a[@class='ProjectOwnersInfo-userName-2oz js-mini-profile qa-user-link e2e-ProjectOwnersInfo-user-link']\")]\n",
    "\n",
    "## get location name\n",
    "artists_locations = [element.text for element in driver.find_elements_by_xpath(\"//div[@class='ProjectOwnersInfo-userInfo-2WK']//a[@class='ProjectOwnersInfo-userLocation-_rE beicons-pre beicons-pre-location']\")]\n",
    "\n",
    "pr"
   ]
  },
  {
   "cell_type": "code",
   "execution_count": null,
   "metadata": {},
   "outputs": [],
   "source": []
  },
  {
   "cell_type": "code",
   "execution_count": null,
   "metadata": {},
   "outputs": [],
   "source": []
  }
 ],
 "metadata": {
  "interpreter": {
   "hash": "f01b1a26c0677924dfb9bb3c0adc99f4a4ad3f1a3781fcda47cbcaac5b4f6244"
  },
  "kernelspec": {
   "display_name": "Python 3.8.8 64-bit ('Ironhack': conda)",
   "name": "python3"
  },
  "language_info": {
   "codemirror_mode": {
    "name": "ipython",
    "version": 3
   },
   "file_extension": ".py",
   "mimetype": "text/x-python",
   "name": "python",
   "nbconvert_exporter": "python",
   "pygments_lexer": "ipython3",
   "version": "3.8.8"
  },
  "orig_nbformat": 4
 },
 "nbformat": 4,
 "nbformat_minor": 2
}
